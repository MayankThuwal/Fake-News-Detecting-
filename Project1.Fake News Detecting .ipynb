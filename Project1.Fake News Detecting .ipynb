{
 "cells": [
  {
   "cell_type": "markdown",
   "metadata": {
    "id": "4CrPoATxBLGR"
   },
   "source": [
    "# About Dataset:\n",
    "    #### 1.title: the title of a news article\n",
    "    #### 2.text: the text of the article; could be incomplete\n",
    "    #### 3.label: a label that marks the news article is real or fake:"
   ]
  },
  {
   "cell_type": "code",
   "execution_count": 2,
   "metadata": {
    "executionInfo": {
     "elapsed": 412,
     "status": "ok",
     "timestamp": 1646400884607,
     "user": {
      "displayName": "MAYANK THUWAL",
      "photoUrl": "https://lh3.googleusercontent.com/a-/AOh14Gh_cmZZfF2F109XI9VrYVpxDf5-S49nVqAfSQI0nQ=s64",
      "userId": "05119156930723421563"
     },
     "user_tz": -330
    },
    "id": "V-o-zIW_BQ0-"
   },
   "outputs": [],
   "source": [
    "import numpy as np\n",
    "import pandas as pd\n",
    "import re\n",
    "from nltk.corpus import stopwords\n",
    "from nltk.stem.porter import PorterStemmer\n",
    "from sklearn.feature_extraction.text import TfidfVectorizer \n",
    "from sklearn.feature_extraction.text import CountVectorizer\n",
    "from sklearn.model_selection import train_test_split\n",
    "from sklearn.linear_model import LogisticRegression\n",
    "from sklearn.metrics import accuracy_score"
   ]
  },
  {
   "cell_type": "code",
   "execution_count": 3,
   "metadata": {
    "colab": {
     "base_uri": "https://localhost:8080/"
    },
    "executionInfo": {
     "elapsed": 10,
     "status": "ok",
     "timestamp": 1646400887088,
     "user": {
      "displayName": "MAYANK THUWAL",
      "photoUrl": "https://lh3.googleusercontent.com/a-/AOh14Gh_cmZZfF2F109XI9VrYVpxDf5-S49nVqAfSQI0nQ=s64",
      "userId": "05119156930723421563"
     },
     "user_tz": -330
    },
    "id": "5fazRxwQBY-F",
    "outputId": "18a66a68-f037-4d8d-eb27-7497924b86fa"
   },
   "outputs": [
    {
     "name": "stderr",
     "output_type": "stream",
     "text": [
      "[nltk_data] Downloading package stopwords to\n",
      "[nltk_data]     C:\\Users\\nisha\\AppData\\Roaming\\nltk_data...\n",
      "[nltk_data]   Package stopwords is already up-to-date!\n"
     ]
    },
    {
     "data": {
      "text/plain": [
       "True"
      ]
     },
     "execution_count": 3,
     "metadata": {},
     "output_type": "execute_result"
    }
   ],
   "source": [
    "import nltk\n",
    "nltk.download('stopwords')"
   ]
  },
  {
   "cell_type": "code",
   "execution_count": 4,
   "metadata": {
    "colab": {
     "base_uri": "https://localhost:8080/"
    },
    "executionInfo": {
     "elapsed": 8,
     "status": "ok",
     "timestamp": 1646400887731,
     "user": {
      "displayName": "MAYANK THUWAL",
      "photoUrl": "https://lh3.googleusercontent.com/a-/AOh14Gh_cmZZfF2F109XI9VrYVpxDf5-S49nVqAfSQI0nQ=s64",
      "userId": "05119156930723421563"
     },
     "user_tz": -330
    },
    "id": "YCP72YqeBeCS",
    "outputId": "ac051409-6191-40a3-b292-fe239443f5dd"
   },
   "outputs": [
    {
     "name": "stdout",
     "output_type": "stream",
     "text": [
      "['i', 'me', 'my', 'myself', 'we', 'our', 'ours', 'ourselves', 'you', \"you're\", \"you've\", \"you'll\", \"you'd\", 'your', 'yours', 'yourself', 'yourselves', 'he', 'him', 'his', 'himself', 'she', \"she's\", 'her', 'hers', 'herself', 'it', \"it's\", 'its', 'itself', 'they', 'them', 'their', 'theirs', 'themselves', 'what', 'which', 'who', 'whom', 'this', 'that', \"that'll\", 'these', 'those', 'am', 'is', 'are', 'was', 'were', 'be', 'been', 'being', 'have', 'has', 'had', 'having', 'do', 'does', 'did', 'doing', 'a', 'an', 'the', 'and', 'but', 'if', 'or', 'because', 'as', 'until', 'while', 'of', 'at', 'by', 'for', 'with', 'about', 'against', 'between', 'into', 'through', 'during', 'before', 'after', 'above', 'below', 'to', 'from', 'up', 'down', 'in', 'out', 'on', 'off', 'over', 'under', 'again', 'further', 'then', 'once', 'here', 'there', 'when', 'where', 'why', 'how', 'all', 'any', 'both', 'each', 'few', 'more', 'most', 'other', 'some', 'such', 'no', 'nor', 'not', 'only', 'own', 'same', 'so', 'than', 'too', 'very', 's', 't', 'can', 'will', 'just', 'don', \"don't\", 'should', \"should've\", 'now', 'd', 'll', 'm', 'o', 're', 've', 'y', 'ain', 'aren', \"aren't\", 'couldn', \"couldn't\", 'didn', \"didn't\", 'doesn', \"doesn't\", 'hadn', \"hadn't\", 'hasn', \"hasn't\", 'haven', \"haven't\", 'isn', \"isn't\", 'ma', 'mightn', \"mightn't\", 'mustn', \"mustn't\", 'needn', \"needn't\", 'shan', \"shan't\", 'shouldn', \"shouldn't\", 'wasn', \"wasn't\", 'weren', \"weren't\", 'won', \"won't\", 'wouldn', \"wouldn't\"]\n"
     ]
    }
   ],
   "source": [
    "# printing the stopwords in English\n",
    "\n",
    "print(stopwords.words('english'))"
   ]
  },
  {
   "cell_type": "code",
   "execution_count": 5,
   "metadata": {
    "executionInfo": {
     "elapsed": 1013,
     "status": "ok",
     "timestamp": 1646400945454,
     "user": {
      "displayName": "MAYANK THUWAL",
      "photoUrl": "https://lh3.googleusercontent.com/a-/AOh14Gh_cmZZfF2F109XI9VrYVpxDf5-S49nVqAfSQI0nQ=s64",
      "userId": "05119156930723421563"
     },
     "user_tz": -330
    },
    "id": "5wBqbEVOEZM8"
   },
   "outputs": [],
   "source": [
    "#Loading dataset to the pandas mainframe\n",
    "\n",
    "news_dataset = pd.read_csv(\"news.csv\",encoding = 'unicode_escape')"
   ]
  },
  {
   "cell_type": "code",
   "execution_count": 6,
   "metadata": {
    "colab": {
     "base_uri": "https://localhost:8080/"
    },
    "executionInfo": {
     "elapsed": 12,
     "status": "ok",
     "timestamp": 1646400957578,
     "user": {
      "displayName": "MAYANK THUWAL",
      "photoUrl": "https://lh3.googleusercontent.com/a-/AOh14Gh_cmZZfF2F109XI9VrYVpxDf5-S49nVqAfSQI0nQ=s64",
      "userId": "05119156930723421563"
     },
     "user_tz": -330
    },
    "id": "AMqJD4J7EfO1",
    "outputId": "5115c6be-6fc5-4f86-fd12-71f31c04a9ed"
   },
   "outputs": [
    {
     "data": {
      "text/plain": [
       "(6335, 4)"
      ]
     },
     "execution_count": 6,
     "metadata": {},
     "output_type": "execute_result"
    }
   ],
   "source": [
    "news_dataset.shape"
   ]
  },
  {
   "cell_type": "code",
   "execution_count": 7,
   "metadata": {
    "colab": {
     "base_uri": "https://localhost:8080/"
    },
    "executionInfo": {
     "elapsed": 9,
     "status": "ok",
     "timestamp": 1646400958017,
     "user": {
      "displayName": "MAYANK THUWAL",
      "photoUrl": "https://lh3.googleusercontent.com/a-/AOh14Gh_cmZZfF2F109XI9VrYVpxDf5-S49nVqAfSQI0nQ=s64",
      "userId": "05119156930723421563"
     },
     "user_tz": -330
    },
    "id": "43DV2wRHEiNm",
    "outputId": "b372cc60-0735-4feb-bb0a-148e90b371ee"
   },
   "outputs": [
    {
     "data": {
      "text/plain": [
       "Unnamed: 0    0\n",
       "title         0\n",
       "text          0\n",
       "label         0\n",
       "dtype: int64"
      ]
     },
     "execution_count": 7,
     "metadata": {},
     "output_type": "execute_result"
    }
   ],
   "source": [
    "news_dataset.isnull().sum()"
   ]
  },
  {
   "cell_type": "code",
   "execution_count": 8,
   "metadata": {
    "colab": {
     "base_uri": "https://localhost:8080/",
     "height": 363
    },
    "executionInfo": {
     "elapsed": 19,
     "status": "ok",
     "timestamp": 1646400959358,
     "user": {
      "displayName": "MAYANK THUWAL",
      "photoUrl": "https://lh3.googleusercontent.com/a-/AOh14Gh_cmZZfF2F109XI9VrYVpxDf5-S49nVqAfSQI0nQ=s64",
      "userId": "05119156930723421563"
     },
     "user_tz": -330
    },
    "id": "Q_NzGws_ElgV",
    "outputId": "bcedfd80-1ef7-4db6-9428-c3e94524cddc"
   },
   "outputs": [
    {
     "data": {
      "text/html": [
       "<div>\n",
       "<style scoped>\n",
       "    .dataframe tbody tr th:only-of-type {\n",
       "        vertical-align: middle;\n",
       "    }\n",
       "\n",
       "    .dataframe tbody tr th {\n",
       "        vertical-align: top;\n",
       "    }\n",
       "\n",
       "    .dataframe thead th {\n",
       "        text-align: right;\n",
       "    }\n",
       "</style>\n",
       "<table border=\"1\" class=\"dataframe\">\n",
       "  <thead>\n",
       "    <tr style=\"text-align: right;\">\n",
       "      <th></th>\n",
       "      <th>Unnamed: 0</th>\n",
       "      <th>title</th>\n",
       "      <th>text</th>\n",
       "      <th>label</th>\n",
       "    </tr>\n",
       "  </thead>\n",
       "  <tbody>\n",
       "    <tr>\n",
       "      <th>0</th>\n",
       "      <td>8476</td>\n",
       "      <td>You Can Smell Hillary¡¦s Fear</td>\n",
       "      <td>Daniel Greenfield, a Shillman Journalism Fello...</td>\n",
       "      <td>FAKE</td>\n",
       "    </tr>\n",
       "    <tr>\n",
       "      <th>1</th>\n",
       "      <td>10294</td>\n",
       "      <td>Watch The Exact Moment Paul Ryan Committed Pol...</td>\n",
       "      <td>Google Pinterest Digg Linkedin Reddit Stumbleu...</td>\n",
       "      <td>FAKE</td>\n",
       "    </tr>\n",
       "    <tr>\n",
       "      <th>2</th>\n",
       "      <td>3608</td>\n",
       "      <td>Kerry to go to Paris in gesture of sympathy</td>\n",
       "      <td>U.S. Secretary of State John F. Kerry said Mon...</td>\n",
       "      <td>REAL</td>\n",
       "    </tr>\n",
       "    <tr>\n",
       "      <th>3</th>\n",
       "      <td>10142</td>\n",
       "      <td>Bernie supporters on Twitter erupt in anger ag...</td>\n",
       "      <td>¡X Kaydee King (@KaydeeKing) November 9, 2016 ...</td>\n",
       "      <td>FAKE</td>\n",
       "    </tr>\n",
       "    <tr>\n",
       "      <th>4</th>\n",
       "      <td>875</td>\n",
       "      <td>The Battle of New York: Why This Primary Matters</td>\n",
       "      <td>It's primary day in New York and front-runners...</td>\n",
       "      <td>REAL</td>\n",
       "    </tr>\n",
       "    <tr>\n",
       "      <th>5</th>\n",
       "      <td>6903</td>\n",
       "      <td>Tehran, USA</td>\n",
       "      <td>\\nI¡¦m not an immigrant, but my grandparents...</td>\n",
       "      <td>FAKE</td>\n",
       "    </tr>\n",
       "    <tr>\n",
       "      <th>6</th>\n",
       "      <td>7341</td>\n",
       "      <td>Girl Horrified At What She Watches Boyfriend D...</td>\n",
       "      <td>Share This Baylee Luciani (left), Screenshot o...</td>\n",
       "      <td>FAKE</td>\n",
       "    </tr>\n",
       "    <tr>\n",
       "      <th>7</th>\n",
       "      <td>95</td>\n",
       "      <td>¡¥Britain¡¦s Schindler¡¦ Dies at 106</td>\n",
       "      <td>A Czech stockbroker who saved more than 650 Je...</td>\n",
       "      <td>REAL</td>\n",
       "    </tr>\n",
       "    <tr>\n",
       "      <th>8</th>\n",
       "      <td>4869</td>\n",
       "      <td>Fact check: Trump and Clinton at the 'commande...</td>\n",
       "      <td>Hillary Clinton and Donald Trump made some ina...</td>\n",
       "      <td>REAL</td>\n",
       "    </tr>\n",
       "    <tr>\n",
       "      <th>9</th>\n",
       "      <td>2909</td>\n",
       "      <td>Iran reportedly makes new push for uranium con...</td>\n",
       "      <td>Iranian negotiators reportedly have made a las...</td>\n",
       "      <td>REAL</td>\n",
       "    </tr>\n",
       "  </tbody>\n",
       "</table>\n",
       "</div>"
      ],
      "text/plain": [
       "   Unnamed: 0                                              title  \\\n",
       "0        8476                      You Can Smell Hillary¡¦s Fear   \n",
       "1       10294  Watch The Exact Moment Paul Ryan Committed Pol...   \n",
       "2        3608        Kerry to go to Paris in gesture of sympathy   \n",
       "3       10142  Bernie supporters on Twitter erupt in anger ag...   \n",
       "4         875   The Battle of New York: Why This Primary Matters   \n",
       "5        6903                                        Tehran, USA   \n",
       "6        7341  Girl Horrified At What She Watches Boyfriend D...   \n",
       "7          95               ¡¥Britain¡¦s Schindler¡¦ Dies at 106   \n",
       "8        4869  Fact check: Trump and Clinton at the 'commande...   \n",
       "9        2909  Iran reportedly makes new push for uranium con...   \n",
       "\n",
       "                                                text label  \n",
       "0  Daniel Greenfield, a Shillman Journalism Fello...  FAKE  \n",
       "1  Google Pinterest Digg Linkedin Reddit Stumbleu...  FAKE  \n",
       "2  U.S. Secretary of State John F. Kerry said Mon...  REAL  \n",
       "3  ¡X Kaydee King (@KaydeeKing) November 9, 2016 ...  FAKE  \n",
       "4  It's primary day in New York and front-runners...  REAL  \n",
       "5    \\nI¡¦m not an immigrant, but my grandparents...  FAKE  \n",
       "6  Share This Baylee Luciani (left), Screenshot o...  FAKE  \n",
       "7  A Czech stockbroker who saved more than 650 Je...  REAL  \n",
       "8  Hillary Clinton and Donald Trump made some ina...  REAL  \n",
       "9  Iranian negotiators reportedly have made a las...  REAL  "
      ]
     },
     "execution_count": 8,
     "metadata": {},
     "output_type": "execute_result"
    }
   ],
   "source": [
    "news_dataset.head(10)"
   ]
  },
  {
   "cell_type": "code",
   "execution_count": 9,
   "metadata": {
    "executionInfo": {
     "elapsed": 9,
     "status": "ok",
     "timestamp": 1646400961665,
     "user": {
      "displayName": "MAYANK THUWAL",
      "photoUrl": "https://lh3.googleusercontent.com/a-/AOh14Gh_cmZZfF2F109XI9VrYVpxDf5-S49nVqAfSQI0nQ=s64",
      "userId": "05119156930723421563"
     },
     "user_tz": -330
    },
    "id": "eZo-kEFoEo59"
   },
   "outputs": [],
   "source": [
    "# merging title and text\n",
    "\n",
    "news_dataset['New']=news_dataset['title']+\"        \"+news_dataset['text']"
   ]
  },
  {
   "cell_type": "code",
   "execution_count": 10,
   "metadata": {
    "colab": {
     "base_uri": "https://localhost:8080/"
    },
    "executionInfo": {
     "elapsed": 395,
     "status": "ok",
     "timestamp": 1646400967350,
     "user": {
      "displayName": "MAYANK THUWAL",
      "photoUrl": "https://lh3.googleusercontent.com/a-/AOh14Gh_cmZZfF2F109XI9VrYVpxDf5-S49nVqAfSQI0nQ=s64",
      "userId": "05119156930723421563"
     },
     "user_tz": -330
    },
    "id": "o8t1dD_EEtD3",
    "outputId": "5bed9491-fc33-463c-c7cb-7ef79f70aa6e"
   },
   "outputs": [
    {
     "name": "stdout",
     "output_type": "stream",
     "text": [
      "0       You Can Smell Hillary¡¦s Fear        Daniel Gr...\n",
      "1       Watch The Exact Moment Paul Ryan Committed Pol...\n",
      "2       Kerry to go to Paris in gesture of sympathy   ...\n",
      "3       Bernie supporters on Twitter erupt in anger ag...\n",
      "4       The Battle of New York: Why This Primary Matte...\n",
      "                              ...                        \n",
      "6330    State Department says it can't find emails fro...\n",
      "6331    The ¡¥P¡¦ in PBS Should Stand for ¡¥Plutocrati...\n",
      "6332    Anti-Trump Protesters Are Tools of the Oligarc...\n",
      "6333    In Ethiopia, Obama seeks progress on peace, se...\n",
      "6334    Jeb Bush Is Suddenly Attacking Trump. Here's W...\n",
      "Name: New, Length: 6335, dtype: object\n"
     ]
    }
   ],
   "source": [
    "print(news_dataset['New'])"
   ]
  },
  {
   "cell_type": "code",
   "execution_count": 11,
   "metadata": {
    "colab": {
     "base_uri": "https://localhost:8080/"
    },
    "executionInfo": {
     "elapsed": 381,
     "status": "ok",
     "timestamp": 1646400974550,
     "user": {
      "displayName": "MAYANK THUWAL",
      "photoUrl": "https://lh3.googleusercontent.com/a-/AOh14Gh_cmZZfF2F109XI9VrYVpxDf5-S49nVqAfSQI0nQ=s64",
      "userId": "05119156930723421563"
     },
     "user_tz": -330
    },
    "id": "wGns_rIJE02K",
    "outputId": "ed38d233-a6ec-4006-d847-02970d93abbe"
   },
   "outputs": [
    {
     "name": "stdout",
     "output_type": "stream",
     "text": [
      "   Unnamed: 0                                              title  \\\n",
      "0        8476                      You Can Smell Hillary¡¦s Fear   \n",
      "1       10294  Watch The Exact Moment Paul Ryan Committed Pol...   \n",
      "2        3608        Kerry to go to Paris in gesture of sympathy   \n",
      "3       10142  Bernie supporters on Twitter erupt in anger ag...   \n",
      "4         875   The Battle of New York: Why This Primary Matters   \n",
      "5        6903                                        Tehran, USA   \n",
      "6        7341  Girl Horrified At What She Watches Boyfriend D...   \n",
      "7          95               ¡¥Britain¡¦s Schindler¡¦ Dies at 106   \n",
      "8        4869  Fact check: Trump and Clinton at the 'commande...   \n",
      "9        2909  Iran reportedly makes new push for uranium con...   \n",
      "\n",
      "                                                text label  \\\n",
      "0  Daniel Greenfield, a Shillman Journalism Fello...  FAKE   \n",
      "1  Google Pinterest Digg Linkedin Reddit Stumbleu...  FAKE   \n",
      "2  U.S. Secretary of State John F. Kerry said Mon...  REAL   \n",
      "3  ¡X Kaydee King (@KaydeeKing) November 9, 2016 ...  FAKE   \n",
      "4  It's primary day in New York and front-runners...  REAL   \n",
      "5    \\nI¡¦m not an immigrant, but my grandparents...  FAKE   \n",
      "6  Share This Baylee Luciani (left), Screenshot o...  FAKE   \n",
      "7  A Czech stockbroker who saved more than 650 Je...  REAL   \n",
      "8  Hillary Clinton and Donald Trump made some ina...  REAL   \n",
      "9  Iranian negotiators reportedly have made a las...  REAL   \n",
      "\n",
      "                                                 New  \n",
      "0  You Can Smell Hillary¡¦s Fear        Daniel Gr...  \n",
      "1  Watch The Exact Moment Paul Ryan Committed Pol...  \n",
      "2  Kerry to go to Paris in gesture of sympathy   ...  \n",
      "3  Bernie supporters on Twitter erupt in anger ag...  \n",
      "4  The Battle of New York: Why This Primary Matte...  \n",
      "5  Tehran, USA          \\nI¡¦m not an immigrant, ...  \n",
      "6  Girl Horrified At What She Watches Boyfriend D...  \n",
      "7  ¡¥Britain¡¦s Schindler¡¦ Dies at 106        A ...  \n",
      "8  Fact check: Trump and Clinton at the 'commande...  \n",
      "9  Iran reportedly makes new push for uranium con...  \n"
     ]
    }
   ],
   "source": [
    "print(news_dataset.head(10))"
   ]
  },
  {
   "cell_type": "code",
   "execution_count": 12,
   "metadata": {
    "executionInfo": {
     "elapsed": 377,
     "status": "ok",
     "timestamp": 1646401064720,
     "user": {
      "displayName": "MAYANK THUWAL",
      "photoUrl": "https://lh3.googleusercontent.com/a-/AOh14Gh_cmZZfF2F109XI9VrYVpxDf5-S49nVqAfSQI0nQ=s64",
      "userId": "05119156930723421563"
     },
     "user_tz": -330
    },
    "id": "sros9bntCYXQ"
   },
   "outputs": [],
   "source": [
    "news_dataset['label'] = news_dataset['label'].replace({\"FAKE\":\"0\",\"REAL\":\"1\"})"
   ]
  },
  {
   "cell_type": "code",
   "execution_count": 13,
   "metadata": {
    "colab": {
     "base_uri": "https://localhost:8080/",
     "height": 476
    },
    "executionInfo": {
     "elapsed": 405,
     "status": "ok",
     "timestamp": 1646401067859,
     "user": {
      "displayName": "MAYANK THUWAL",
      "photoUrl": "https://lh3.googleusercontent.com/a-/AOh14Gh_cmZZfF2F109XI9VrYVpxDf5-S49nVqAfSQI0nQ=s64",
      "userId": "05119156930723421563"
     },
     "user_tz": -330
    },
    "id": "lhaljx-DF-WV",
    "outputId": "754e6ecb-93e8-417b-bae6-8c25b14c777e"
   },
   "outputs": [
    {
     "data": {
      "text/html": [
       "<div>\n",
       "<style scoped>\n",
       "    .dataframe tbody tr th:only-of-type {\n",
       "        vertical-align: middle;\n",
       "    }\n",
       "\n",
       "    .dataframe tbody tr th {\n",
       "        vertical-align: top;\n",
       "    }\n",
       "\n",
       "    .dataframe thead th {\n",
       "        text-align: right;\n",
       "    }\n",
       "</style>\n",
       "<table border=\"1\" class=\"dataframe\">\n",
       "  <thead>\n",
       "    <tr style=\"text-align: right;\">\n",
       "      <th></th>\n",
       "      <th>Unnamed: 0</th>\n",
       "      <th>title</th>\n",
       "      <th>text</th>\n",
       "      <th>label</th>\n",
       "      <th>New</th>\n",
       "    </tr>\n",
       "  </thead>\n",
       "  <tbody>\n",
       "    <tr>\n",
       "      <th>0</th>\n",
       "      <td>8476</td>\n",
       "      <td>You Can Smell Hillary¡¦s Fear</td>\n",
       "      <td>Daniel Greenfield, a Shillman Journalism Fello...</td>\n",
       "      <td>0</td>\n",
       "      <td>You Can Smell Hillary¡¦s Fear        Daniel Gr...</td>\n",
       "    </tr>\n",
       "    <tr>\n",
       "      <th>1</th>\n",
       "      <td>10294</td>\n",
       "      <td>Watch The Exact Moment Paul Ryan Committed Pol...</td>\n",
       "      <td>Google Pinterest Digg Linkedin Reddit Stumbleu...</td>\n",
       "      <td>0</td>\n",
       "      <td>Watch The Exact Moment Paul Ryan Committed Pol...</td>\n",
       "    </tr>\n",
       "    <tr>\n",
       "      <th>2</th>\n",
       "      <td>3608</td>\n",
       "      <td>Kerry to go to Paris in gesture of sympathy</td>\n",
       "      <td>U.S. Secretary of State John F. Kerry said Mon...</td>\n",
       "      <td>1</td>\n",
       "      <td>Kerry to go to Paris in gesture of sympathy   ...</td>\n",
       "    </tr>\n",
       "    <tr>\n",
       "      <th>3</th>\n",
       "      <td>10142</td>\n",
       "      <td>Bernie supporters on Twitter erupt in anger ag...</td>\n",
       "      <td>¡X Kaydee King (@KaydeeKing) November 9, 2016 ...</td>\n",
       "      <td>0</td>\n",
       "      <td>Bernie supporters on Twitter erupt in anger ag...</td>\n",
       "    </tr>\n",
       "    <tr>\n",
       "      <th>4</th>\n",
       "      <td>875</td>\n",
       "      <td>The Battle of New York: Why This Primary Matters</td>\n",
       "      <td>It's primary day in New York and front-runners...</td>\n",
       "      <td>1</td>\n",
       "      <td>The Battle of New York: Why This Primary Matte...</td>\n",
       "    </tr>\n",
       "    <tr>\n",
       "      <th>5</th>\n",
       "      <td>6903</td>\n",
       "      <td>Tehran, USA</td>\n",
       "      <td>\\nI¡¦m not an immigrant, but my grandparents...</td>\n",
       "      <td>0</td>\n",
       "      <td>Tehran, USA          \\nI¡¦m not an immigrant, ...</td>\n",
       "    </tr>\n",
       "    <tr>\n",
       "      <th>6</th>\n",
       "      <td>7341</td>\n",
       "      <td>Girl Horrified At What She Watches Boyfriend D...</td>\n",
       "      <td>Share This Baylee Luciani (left), Screenshot o...</td>\n",
       "      <td>0</td>\n",
       "      <td>Girl Horrified At What She Watches Boyfriend D...</td>\n",
       "    </tr>\n",
       "    <tr>\n",
       "      <th>7</th>\n",
       "      <td>95</td>\n",
       "      <td>¡¥Britain¡¦s Schindler¡¦ Dies at 106</td>\n",
       "      <td>A Czech stockbroker who saved more than 650 Je...</td>\n",
       "      <td>1</td>\n",
       "      <td>¡¥Britain¡¦s Schindler¡¦ Dies at 106        A ...</td>\n",
       "    </tr>\n",
       "    <tr>\n",
       "      <th>8</th>\n",
       "      <td>4869</td>\n",
       "      <td>Fact check: Trump and Clinton at the 'commande...</td>\n",
       "      <td>Hillary Clinton and Donald Trump made some ina...</td>\n",
       "      <td>1</td>\n",
       "      <td>Fact check: Trump and Clinton at the 'commande...</td>\n",
       "    </tr>\n",
       "    <tr>\n",
       "      <th>9</th>\n",
       "      <td>2909</td>\n",
       "      <td>Iran reportedly makes new push for uranium con...</td>\n",
       "      <td>Iranian negotiators reportedly have made a las...</td>\n",
       "      <td>1</td>\n",
       "      <td>Iran reportedly makes new push for uranium con...</td>\n",
       "    </tr>\n",
       "  </tbody>\n",
       "</table>\n",
       "</div>"
      ],
      "text/plain": [
       "   Unnamed: 0                                              title  \\\n",
       "0        8476                      You Can Smell Hillary¡¦s Fear   \n",
       "1       10294  Watch The Exact Moment Paul Ryan Committed Pol...   \n",
       "2        3608        Kerry to go to Paris in gesture of sympathy   \n",
       "3       10142  Bernie supporters on Twitter erupt in anger ag...   \n",
       "4         875   The Battle of New York: Why This Primary Matters   \n",
       "5        6903                                        Tehran, USA   \n",
       "6        7341  Girl Horrified At What She Watches Boyfriend D...   \n",
       "7          95               ¡¥Britain¡¦s Schindler¡¦ Dies at 106   \n",
       "8        4869  Fact check: Trump and Clinton at the 'commande...   \n",
       "9        2909  Iran reportedly makes new push for uranium con...   \n",
       "\n",
       "                                                text label  \\\n",
       "0  Daniel Greenfield, a Shillman Journalism Fello...     0   \n",
       "1  Google Pinterest Digg Linkedin Reddit Stumbleu...     0   \n",
       "2  U.S. Secretary of State John F. Kerry said Mon...     1   \n",
       "3  ¡X Kaydee King (@KaydeeKing) November 9, 2016 ...     0   \n",
       "4  It's primary day in New York and front-runners...     1   \n",
       "5    \\nI¡¦m not an immigrant, but my grandparents...     0   \n",
       "6  Share This Baylee Luciani (left), Screenshot o...     0   \n",
       "7  A Czech stockbroker who saved more than 650 Je...     1   \n",
       "8  Hillary Clinton and Donald Trump made some ina...     1   \n",
       "9  Iranian negotiators reportedly have made a las...     1   \n",
       "\n",
       "                                                 New  \n",
       "0  You Can Smell Hillary¡¦s Fear        Daniel Gr...  \n",
       "1  Watch The Exact Moment Paul Ryan Committed Pol...  \n",
       "2  Kerry to go to Paris in gesture of sympathy   ...  \n",
       "3  Bernie supporters on Twitter erupt in anger ag...  \n",
       "4  The Battle of New York: Why This Primary Matte...  \n",
       "5  Tehran, USA          \\nI¡¦m not an immigrant, ...  \n",
       "6  Girl Horrified At What She Watches Boyfriend D...  \n",
       "7  ¡¥Britain¡¦s Schindler¡¦ Dies at 106        A ...  \n",
       "8  Fact check: Trump and Clinton at the 'commande...  \n",
       "9  Iran reportedly makes new push for uranium con...  "
      ]
     },
     "execution_count": 13,
     "metadata": {},
     "output_type": "execute_result"
    }
   ],
   "source": [
    "news_dataset.head(10)"
   ]
  },
  {
   "cell_type": "code",
   "execution_count": 14,
   "metadata": {
    "executionInfo": {
     "elapsed": 393,
     "status": "ok",
     "timestamp": 1646401089837,
     "user": {
      "displayName": "MAYANK THUWAL",
      "photoUrl": "https://lh3.googleusercontent.com/a-/AOh14Gh_cmZZfF2F109XI9VrYVpxDf5-S49nVqAfSQI0nQ=s64",
      "userId": "05119156930723421563"
     },
     "user_tz": -330
    },
    "id": "uluN-isrGC0B"
   },
   "outputs": [],
   "source": [
    "# separating data and lable\n",
    "\n",
    "X = news_dataset.drop('label',axis =1)\n",
    "Y = news_dataset['label']"
   ]
  },
  {
   "cell_type": "code",
   "execution_count": 15,
   "metadata": {
    "colab": {
     "base_uri": "https://localhost:8080/",
     "height": 616
    },
    "executionInfo": {
     "elapsed": 396,
     "status": "ok",
     "timestamp": 1646401100791,
     "user": {
      "displayName": "MAYANK THUWAL",
      "photoUrl": "https://lh3.googleusercontent.com/a-/AOh14Gh_cmZZfF2F109XI9VrYVpxDf5-S49nVqAfSQI0nQ=s64",
      "userId": "05119156930723421563"
     },
     "user_tz": -330
    },
    "id": "yFppVIwQJu01",
    "outputId": "5e00da95-6a42-418a-bc18-7da9f8bc8c30"
   },
   "outputs": [
    {
     "data": {
      "text/html": [
       "<div>\n",
       "<style scoped>\n",
       "    .dataframe tbody tr th:only-of-type {\n",
       "        vertical-align: middle;\n",
       "    }\n",
       "\n",
       "    .dataframe tbody tr th {\n",
       "        vertical-align: top;\n",
       "    }\n",
       "\n",
       "    .dataframe thead th {\n",
       "        text-align: right;\n",
       "    }\n",
       "</style>\n",
       "<table border=\"1\" class=\"dataframe\">\n",
       "  <thead>\n",
       "    <tr style=\"text-align: right;\">\n",
       "      <th></th>\n",
       "      <th>Unnamed: 0</th>\n",
       "      <th>title</th>\n",
       "      <th>text</th>\n",
       "      <th>New</th>\n",
       "    </tr>\n",
       "  </thead>\n",
       "  <tbody>\n",
       "    <tr>\n",
       "      <th>0</th>\n",
       "      <td>8476</td>\n",
       "      <td>You Can Smell Hillary¡¦s Fear</td>\n",
       "      <td>Daniel Greenfield, a Shillman Journalism Fello...</td>\n",
       "      <td>You Can Smell Hillary¡¦s Fear        Daniel Gr...</td>\n",
       "    </tr>\n",
       "    <tr>\n",
       "      <th>1</th>\n",
       "      <td>10294</td>\n",
       "      <td>Watch The Exact Moment Paul Ryan Committed Pol...</td>\n",
       "      <td>Google Pinterest Digg Linkedin Reddit Stumbleu...</td>\n",
       "      <td>Watch The Exact Moment Paul Ryan Committed Pol...</td>\n",
       "    </tr>\n",
       "    <tr>\n",
       "      <th>2</th>\n",
       "      <td>3608</td>\n",
       "      <td>Kerry to go to Paris in gesture of sympathy</td>\n",
       "      <td>U.S. Secretary of State John F. Kerry said Mon...</td>\n",
       "      <td>Kerry to go to Paris in gesture of sympathy   ...</td>\n",
       "    </tr>\n",
       "    <tr>\n",
       "      <th>3</th>\n",
       "      <td>10142</td>\n",
       "      <td>Bernie supporters on Twitter erupt in anger ag...</td>\n",
       "      <td>¡X Kaydee King (@KaydeeKing) November 9, 2016 ...</td>\n",
       "      <td>Bernie supporters on Twitter erupt in anger ag...</td>\n",
       "    </tr>\n",
       "    <tr>\n",
       "      <th>4</th>\n",
       "      <td>875</td>\n",
       "      <td>The Battle of New York: Why This Primary Matters</td>\n",
       "      <td>It's primary day in New York and front-runners...</td>\n",
       "      <td>The Battle of New York: Why This Primary Matte...</td>\n",
       "    </tr>\n",
       "    <tr>\n",
       "      <th>5</th>\n",
       "      <td>6903</td>\n",
       "      <td>Tehran, USA</td>\n",
       "      <td>\\nI¡¦m not an immigrant, but my grandparents...</td>\n",
       "      <td>Tehran, USA          \\nI¡¦m not an immigrant, ...</td>\n",
       "    </tr>\n",
       "    <tr>\n",
       "      <th>6</th>\n",
       "      <td>7341</td>\n",
       "      <td>Girl Horrified At What She Watches Boyfriend D...</td>\n",
       "      <td>Share This Baylee Luciani (left), Screenshot o...</td>\n",
       "      <td>Girl Horrified At What She Watches Boyfriend D...</td>\n",
       "    </tr>\n",
       "    <tr>\n",
       "      <th>7</th>\n",
       "      <td>95</td>\n",
       "      <td>¡¥Britain¡¦s Schindler¡¦ Dies at 106</td>\n",
       "      <td>A Czech stockbroker who saved more than 650 Je...</td>\n",
       "      <td>¡¥Britain¡¦s Schindler¡¦ Dies at 106        A ...</td>\n",
       "    </tr>\n",
       "    <tr>\n",
       "      <th>8</th>\n",
       "      <td>4869</td>\n",
       "      <td>Fact check: Trump and Clinton at the 'commande...</td>\n",
       "      <td>Hillary Clinton and Donald Trump made some ina...</td>\n",
       "      <td>Fact check: Trump and Clinton at the 'commande...</td>\n",
       "    </tr>\n",
       "    <tr>\n",
       "      <th>9</th>\n",
       "      <td>2909</td>\n",
       "      <td>Iran reportedly makes new push for uranium con...</td>\n",
       "      <td>Iranian negotiators reportedly have made a las...</td>\n",
       "      <td>Iran reportedly makes new push for uranium con...</td>\n",
       "    </tr>\n",
       "    <tr>\n",
       "      <th>10</th>\n",
       "      <td>1357</td>\n",
       "      <td>With all three Clintons in Iowa, a glimpse at ...</td>\n",
       "      <td>CEDAR RAPIDS, Iowa ¡X ¡§I had one of the most ...</td>\n",
       "      <td>With all three Clintons in Iowa, a glimpse at ...</td>\n",
       "    </tr>\n",
       "    <tr>\n",
       "      <th>11</th>\n",
       "      <td>988</td>\n",
       "      <td>Donald Trump¡¦s Shockingly Weak Delegate Game ...</td>\n",
       "      <td>Donald Trump¡¦s organizational problems have g...</td>\n",
       "      <td>Donald Trump¡¦s Shockingly Weak Delegate Game ...</td>\n",
       "    </tr>\n",
       "    <tr>\n",
       "      <th>12</th>\n",
       "      <td>7041</td>\n",
       "      <td>Strong Solar Storm, Tech Risks Today | S0 News...</td>\n",
       "      <td>Click Here To Learn More About Alexandra's Per...</td>\n",
       "      <td>Strong Solar Storm, Tech Risks Today | S0 News...</td>\n",
       "    </tr>\n",
       "    <tr>\n",
       "      <th>13</th>\n",
       "      <td>7623</td>\n",
       "      <td>10 Ways America Is Preparing for World War 3</td>\n",
       "      <td>October 31, 2016 at 4:52 am \\nPretty factual e...</td>\n",
       "      <td>10 Ways America Is Preparing for World War 3  ...</td>\n",
       "    </tr>\n",
       "    <tr>\n",
       "      <th>14</th>\n",
       "      <td>1571</td>\n",
       "      <td>Trump takes on Cruz, but lightly</td>\n",
       "      <td>Killing Obama administration rules, dismantlin...</td>\n",
       "      <td>Trump takes on Cruz, but lightly        Killin...</td>\n",
       "    </tr>\n",
       "  </tbody>\n",
       "</table>\n",
       "</div>"
      ],
      "text/plain": [
       "    Unnamed: 0                                              title  \\\n",
       "0         8476                      You Can Smell Hillary¡¦s Fear   \n",
       "1        10294  Watch The Exact Moment Paul Ryan Committed Pol...   \n",
       "2         3608        Kerry to go to Paris in gesture of sympathy   \n",
       "3        10142  Bernie supporters on Twitter erupt in anger ag...   \n",
       "4          875   The Battle of New York: Why This Primary Matters   \n",
       "5         6903                                        Tehran, USA   \n",
       "6         7341  Girl Horrified At What She Watches Boyfriend D...   \n",
       "7           95               ¡¥Britain¡¦s Schindler¡¦ Dies at 106   \n",
       "8         4869  Fact check: Trump and Clinton at the 'commande...   \n",
       "9         2909  Iran reportedly makes new push for uranium con...   \n",
       "10        1357  With all three Clintons in Iowa, a glimpse at ...   \n",
       "11         988  Donald Trump¡¦s Shockingly Weak Delegate Game ...   \n",
       "12        7041  Strong Solar Storm, Tech Risks Today | S0 News...   \n",
       "13        7623       10 Ways America Is Preparing for World War 3   \n",
       "14        1571                   Trump takes on Cruz, but lightly   \n",
       "\n",
       "                                                 text  \\\n",
       "0   Daniel Greenfield, a Shillman Journalism Fello...   \n",
       "1   Google Pinterest Digg Linkedin Reddit Stumbleu...   \n",
       "2   U.S. Secretary of State John F. Kerry said Mon...   \n",
       "3   ¡X Kaydee King (@KaydeeKing) November 9, 2016 ...   \n",
       "4   It's primary day in New York and front-runners...   \n",
       "5     \\nI¡¦m not an immigrant, but my grandparents...   \n",
       "6   Share This Baylee Luciani (left), Screenshot o...   \n",
       "7   A Czech stockbroker who saved more than 650 Je...   \n",
       "8   Hillary Clinton and Donald Trump made some ina...   \n",
       "9   Iranian negotiators reportedly have made a las...   \n",
       "10  CEDAR RAPIDS, Iowa ¡X ¡§I had one of the most ...   \n",
       "11  Donald Trump¡¦s organizational problems have g...   \n",
       "12  Click Here To Learn More About Alexandra's Per...   \n",
       "13  October 31, 2016 at 4:52 am \\nPretty factual e...   \n",
       "14  Killing Obama administration rules, dismantlin...   \n",
       "\n",
       "                                                  New  \n",
       "0   You Can Smell Hillary¡¦s Fear        Daniel Gr...  \n",
       "1   Watch The Exact Moment Paul Ryan Committed Pol...  \n",
       "2   Kerry to go to Paris in gesture of sympathy   ...  \n",
       "3   Bernie supporters on Twitter erupt in anger ag...  \n",
       "4   The Battle of New York: Why This Primary Matte...  \n",
       "5   Tehran, USA          \\nI¡¦m not an immigrant, ...  \n",
       "6   Girl Horrified At What She Watches Boyfriend D...  \n",
       "7   ¡¥Britain¡¦s Schindler¡¦ Dies at 106        A ...  \n",
       "8   Fact check: Trump and Clinton at the 'commande...  \n",
       "9   Iran reportedly makes new push for uranium con...  \n",
       "10  With all three Clintons in Iowa, a glimpse at ...  \n",
       "11  Donald Trump¡¦s Shockingly Weak Delegate Game ...  \n",
       "12  Strong Solar Storm, Tech Risks Today | S0 News...  \n",
       "13  10 Ways America Is Preparing for World War 3  ...  \n",
       "14  Trump takes on Cruz, but lightly        Killin...  "
      ]
     },
     "execution_count": 15,
     "metadata": {},
     "output_type": "execute_result"
    }
   ],
   "source": [
    "X.head(15)"
   ]
  },
  {
   "cell_type": "code",
   "execution_count": 16,
   "metadata": {
    "colab": {
     "base_uri": "https://localhost:8080/"
    },
    "executionInfo": {
     "elapsed": 409,
     "status": "ok",
     "timestamp": 1646401113009,
     "user": {
      "displayName": "MAYANK THUWAL",
      "photoUrl": "https://lh3.googleusercontent.com/a-/AOh14Gh_cmZZfF2F109XI9VrYVpxDf5-S49nVqAfSQI0nQ=s64",
      "userId": "05119156930723421563"
     },
     "user_tz": -330
    },
    "id": "0Ko7rUibJxga",
    "outputId": "a94bf70a-ff8a-4e7a-e9cb-55283837dfcd"
   },
   "outputs": [
    {
     "data": {
      "text/plain": [
       "0     0\n",
       "1     0\n",
       "2     1\n",
       "3     0\n",
       "4     1\n",
       "5     0\n",
       "6     0\n",
       "7     1\n",
       "8     1\n",
       "9     1\n",
       "10    1\n",
       "11    1\n",
       "12    0\n",
       "13    0\n",
       "14    1\n",
       "Name: label, dtype: object"
      ]
     },
     "execution_count": 16,
     "metadata": {},
     "output_type": "execute_result"
    }
   ],
   "source": [
    "Y.head(15)"
   ]
  },
  {
   "cell_type": "markdown",
   "metadata": {
    "id": "DYSfLOzLJ3Yn"
   },
   "source": [
    "Stemming:\n",
    "\n",
    "Stemming is the process of reducing a word to its Root word\n",
    "\n",
    "example:\n",
    "actor, actress, acting --> act"
   ]
  },
  {
   "cell_type": "code",
   "execution_count": 17,
   "metadata": {
    "executionInfo": {
     "elapsed": 374,
     "status": "ok",
     "timestamp": 1646401302556,
     "user": {
      "displayName": "MAYANK THUWAL",
      "photoUrl": "https://lh3.googleusercontent.com/a-/AOh14Gh_cmZZfF2F109XI9VrYVpxDf5-S49nVqAfSQI0nQ=s64",
      "userId": "05119156930723421563"
     },
     "user_tz": -330
    },
    "id": "PQ9qR60MJ4Cd"
   },
   "outputs": [],
   "source": [
    "ps = PorterStemmer()"
   ]
  },
  {
   "cell_type": "code",
   "execution_count": 18,
   "metadata": {
    "executionInfo": {
     "elapsed": 397,
     "status": "ok",
     "timestamp": 1646401305805,
     "user": {
      "displayName": "MAYANK THUWAL",
      "photoUrl": "https://lh3.googleusercontent.com/a-/AOh14Gh_cmZZfF2F109XI9VrYVpxDf5-S49nVqAfSQI0nQ=s64",
      "userId": "05119156930723421563"
     },
     "user_tz": -330
    },
    "id": "UxAxGiN1KLdD"
   },
   "outputs": [],
   "source": [
    "def stemming(content):\n",
    "    stemmed_content = re.sub('[^a-zA-Z]',' ',content)\n",
    "    stemmed_content = stemmed_content.lower()\n",
    "    stemmed_content = stemmed_content.split()\n",
    "    stemmed_content = [ps.stem(word) for word in stemmed_content if not word in stopwords.words('english')]\n",
    "    stemmed_content = ' '.join(stemmed_content)\n",
    "    return stemmed_content"
   ]
  },
  {
   "cell_type": "code",
   "execution_count": 19,
   "metadata": {
    "executionInfo": {
     "elapsed": 666982,
     "status": "ok",
     "timestamp": 1646401975235,
     "user": {
      "displayName": "MAYANK THUWAL",
      "photoUrl": "https://lh3.googleusercontent.com/a-/AOh14Gh_cmZZfF2F109XI9VrYVpxDf5-S49nVqAfSQI0nQ=s64",
      "userId": "05119156930723421563"
     },
     "user_tz": -330
    },
    "id": "yjvUSHSuKNXA"
   },
   "outputs": [],
   "source": [
    "news_dataset['New'] = news_dataset['New'].apply(stemming)"
   ]
  },
  {
   "cell_type": "code",
   "execution_count": 20,
   "metadata": {
    "colab": {
     "base_uri": "https://localhost:8080/"
    },
    "executionInfo": {
     "elapsed": 383,
     "status": "ok",
     "timestamp": 1646402006682,
     "user": {
      "displayName": "MAYANK THUWAL",
      "photoUrl": "https://lh3.googleusercontent.com/a-/AOh14Gh_cmZZfF2F109XI9VrYVpxDf5-S49nVqAfSQI0nQ=s64",
      "userId": "05119156930723421563"
     },
     "user_tz": -330
    },
    "id": "N8NB1uZHKStG",
    "outputId": "d6d3327f-2183-42da-dd01-0c591f5846f4"
   },
   "outputs": [
    {
     "data": {
      "text/plain": [
       "0     smell hillari fear daniel greenfield shillman ...\n",
       "1     watch exact moment paul ryan commit polit suic...\n",
       "2     kerri go pari gestur sympathi u secretari stat...\n",
       "3     berni support twitter erupt anger dnc tri warn...\n",
       "4     battl new york primari matter primari day new ...\n",
       "5     tehran usa immigr grandpar year ago arriv new ...\n",
       "6     girl horrifi watch boyfriend left facetim shar...\n",
       "7     britain schindler die czech stockbrok save jew...\n",
       "8     fact check trump clinton command chief forum h...\n",
       "9     iran reportedli make new push uranium concess ...\n",
       "10    three clinton iowa glimps fire elud hillari cl...\n",
       "11    donald trump shockingli weak deleg game someho...\n",
       "12    strong solar storm tech risk today news oct vi...\n",
       "13    way america prepar world war octob pretti fact...\n",
       "14    trump take cruz lightli kill obama administr r...\n",
       "Name: New, dtype: object"
      ]
     },
     "execution_count": 20,
     "metadata": {},
     "output_type": "execute_result"
    }
   ],
   "source": [
    "news_dataset['New'].head(15)"
   ]
  },
  {
   "cell_type": "code",
   "execution_count": 21,
   "metadata": {
    "executionInfo": {
     "elapsed": 388,
     "status": "ok",
     "timestamp": 1646402023498,
     "user": {
      "displayName": "MAYANK THUWAL",
      "photoUrl": "https://lh3.googleusercontent.com/a-/AOh14Gh_cmZZfF2F109XI9VrYVpxDf5-S49nVqAfSQI0nQ=s64",
      "userId": "05119156930723421563"
     },
     "user_tz": -330
    },
    "id": "H4mJqfX7NOq_"
   },
   "outputs": [],
   "source": [
    "#separating the data and label\n",
    "X = news_dataset['New'].values\n",
    "Y = news_dataset['label'].values"
   ]
  },
  {
   "cell_type": "code",
   "execution_count": 22,
   "metadata": {
    "colab": {
     "base_uri": "https://localhost:8080/"
    },
    "executionInfo": {
     "elapsed": 616,
     "status": "ok",
     "timestamp": 1646402033199,
     "user": {
      "displayName": "MAYANK THUWAL",
      "photoUrl": "https://lh3.googleusercontent.com/a-/AOh14Gh_cmZZfF2F109XI9VrYVpxDf5-S49nVqAfSQI0nQ=s64",
      "userId": "05119156930723421563"
     },
     "user_tz": -330
    },
    "id": "HXsoXZTcNSwv",
    "outputId": "2062d6d3-9dc3-43cb-b0d3-373d1fae078f"
   },
   "outputs": [
    {
     "name": "stdout",
     "output_type": "stream",
     "text": [
      "['smell hillari fear daniel greenfield shillman journal fellow freedom center new york writer focus radic islam final stretch elect hillari rodham clinton gone war fbi word unpreced thrown around often elect ought retir still unpreced nomine major polit parti go war fbi exactli hillari peopl done coma patient wake watch hour cnn hospit bed would assum fbi director jame comey hillari oppon elect fbi attack everyon obama cnn hillari peopl circul letter attack comey current media hit piec lambast target trump surpris clinton alli start run attack ad fbi fbi leadership warn entir left wing establish form lynch mob continu go hillari fbi credibl attack media democrat preemptiv head result investig clinton foundat hillari clinton covert struggl fbi agent obama doj peopl gone explos public new york time compar comey j edgar hoover bizarr headlin jame comey role recal hoover fbi fairli practic admit front spout nonsens boston globe publish column call comey resign outdon time editori claim scandal realli attack women jame carvil appear msnbc remind everyon still aliv insan accus comey coordin hous republican kgb thought vast right wing conspiraci stretch countless media stori charg comey violat procedur know procedur violat email classifi inform store bathroom server senat harri reid sent comey letter accus violat hatch act hatch act nice idea much relev age obama tenth amend cabl news spectrum quickli fill media hack glanc wikipedia articl hatch act tabl accus fbi director one awkward conspiraci hillari ever jame comey realli hurt hillari pick one hell strang way long ago democrat breath sigh relief gave hillari clinton pass promin public statement realli elect trump keep email scandal go trash investig payrol hous republican kgb back play coy sudden develop vladimir putin paul ryan talk take look anthoni weiner comput either comey cun fbi director ever live awkwardli tri navig polit mess trap doj leadership whose polit futur tie hillari victori bureau whose apolit agent want allow job truli mysteri thing hillari associ decid go war respect feder agenc american like fbi hillari clinton enjoy unfavor rate interest question hillari old strategi lie deni fbi even crimin investig underway instead associ insist secur review fbi correct shrug old breezi denial approach given way savag assault fbi pretend noth wrong bad strategi better one pick fight fbi lunat clinton associ tri claim fbi realli kgb two possibl explan hillari clinton might arrog enough lash fbi believ victori near kind hubri led plan victori firework display could lead declar war fbi irrit final mile campaign explan peopl panick go war fbi behavior smart focus presidenti campaign act desper presidenti candid decid option tri destroy credibl fbi hubri fear fbi might reveal origin fbi investig hillari clinton confid could ride good reason believ hillari clinton gone place paranoid wreck within short space time posit clinton campaign promis unit countri replac desper flail oper focus energi fight fbi one reason bizarr behavior clinton campaign decid fbi investig latest batch email pose threat surviv gone fight fbi unpreced step born fear hard know whether fear justifi exist fear alreadi tell us whole lot clinton loyalist rig old investig knew outcom ahead time well knew debat question suddenli longer control afraid smell fear fbi wiretap investig clinton foundat find new email time clintonworld panick spinmeist clintonworld claim email scandal much smoke without fire appear improprieti without substanc react smoke respond fire misguid assault fbi tell us hillari clinton alli afraid revel bigger fundament illeg email setup email setup preemptiv cover clinton campaign panick badli belief right wrong whatev crime illeg setup meant cover risk expos clinton weather countless scandal year whatev protect time around bigger usual corrupt briberi sexual assault abus power follow around throughout year bigger damag alleg alreadi come want fbi investig anywher near campaign comey pure intimid also warn senior fbi peopl valu career warn stay away democrat close rank around nomine fbi ugli unpreced scene may also last stand hillari clinton awkwardli wound way numer scandal elect cycl never shown fear desper chang whatev afraid lie buri email huma abedin bring like noth els'\n",
      " 'watch exact moment paul ryan commit polit suicid trump ralli video googl pinterest digg linkedin reddit stumbleupon print delici pocket tumblr two fundament truth world paul ryan desper want presid paul ryan never presid today prove particularli stagger exampl polit cowardic paul ryan revers cours announc back trump train aboutfac week ago previous declar would support defend trump tape made public trump brag assault women suddenli ryan appear pro trump ralli boldli declar alreadi sent vote make presid unit state surreal moment figurehead republican parti dose gasolin got stage chilli afternoon wisconsin lit match speakerryan say vote realdonaldtrump republican time come home http co vytt yvoe pic twitter com wcvscg x abc news polit abcpolit novemb democrat parti ask better moment film ryan chanc ever becom presid went zero instant wreckag trump leav behind wake cravenli back campaign recov ryan career manag limp way dnc tape lock load use everi ad elect day ring endors man clearli hate person level speak volum spineless ryan postur principl conserv one uncomfort trump unapologet bigotri sexism howev push came shove paul ryan v like mani colleagu v turn snivel appeas lofti tak convict principl hous card collaps slightest breez especi bizarr close ryan came make unscath month speaker hous refus comment trump strategi seem keep head pretend trump exist hope nobodi rememb happen day away elect screw ugli elect done good expos utter cowardic republican feign moral courag realiti televis star spit hijack parti insult wive got everi last one kneel turn event featur imag via twitter'\n",
      " 'kerri go pari gestur sympathi u secretari state john f kerri said monday stop pari later week amid critic top american offici attend sunday uniti march terror kerri said expect arriv pari thursday even head home week abroad said fli franc conclus seri meet schedul thursday sofia bulgaria plan meet next day foreign minist laurent fabiu presid francoi holland return washington visit kerri famili childhood tie countri speak fluent french could address critic unit state snub franc darkest hour mani year french press monday fill question neither presid obama kerri attend sunday march leader nation obama said stay away secur need tax countri kerri prior commit among roughli leader attend isra prime minist benjamin netanyahu stranger intens secur march besid holland citi street highest rank u offici attend march jane hartley ambassador franc victoria nuland assist secretari state european affair attorney gener eric h holder jr pari meet law enforc offici particip march kerri spent sunday busi summit host india prime minist narendra modi unit state eager india relax stringent law function barrier foreign invest hope modi govern act open huge indian market american busi news confer kerri brush asid critic unit state sent senior offici pari quibbl littl bit note mani staffer american embassi pari attend march includ ambassador said want present march could prior commit india go way home make crystal clear passion feel event taken place said think peopl franc doubt america understand happen person sens loss deep commit peopl franc moment trauma'\n",
      " ...\n",
      " 'anti trump protest tool oligarchi inform anti trump protest tool oligarchi reform alway provok rage part profit old order arthur schlesing jr crisi old order paul craig robert anti trump protest besmirch name progress pretend progress refus accept outcom presidenti elect look like act wors white trash denounc think know thug hire paid oligarchi delegitim trump presid way washington german marshal fund paid student kiev protest democrat elect ukrainian govern order prepar way coup organ chang org claim progress group might front along progress group oligarchi destroy reput progress circul petit direct elector elector collag annul elect cast vote hillari rememb upset progress trump said might accept elect result evid vote rig progress damn trump say might certain condit western presstitut use protest kiev delegitim democrat elect govern set coup protest pay good enough non ukrainian came nearbi countri particip protest order collect money time post amount paid daili protest report came eastern western europ peopl ukrainian paid protest ukrainian thing go trump protest cnn report mani american across countri donald trump victori outcom simpli refus accept ten thousand fill street least us citi overnight exact report oligarchi desir presstitut got hope one think simultan protest citi spontan event independ protest manag come slogan sign night follow elect point protest interest serv roman alway ask benefit one answer oligarchi oligarchi benefit trump threat oligarchi intend stop giveaway american job foreign job giveaway sanctifi neoliber junk economist free trade one main reason st centuri worsen us incom distribut money formerli paid middl class wage salari american manufactur employe colleg graduat rout pocket one percent us corpor move product good servic sold american offshor asian countri china india wage bill fall money formerli paid middl class incom goe instead execut bonus dividend capit gain sharehold ladder upward mobil made america land opportun dismantl sole purpos make hand peopl multi billionair trump threat oligarchi intend peac relat russia order replac profit soviet threat oligarchi neoconserv agent work overtim recreat russian threat demon russia accustom mani decad excess profit profit cold war militari secur complex angri presid reagan brought cold war end leach american taxpay could get cold war go soviet union collaps result right wing coup soviet presid mikhail gorbachev militari secur complex zionist neoconserv agent cook war terror keep money flow one percent hard presstitut media work creat fear muslim threat even insouci american knew muslim thousand icbm carri power thermo nuclear weapon capabl destroy entireti unit state minut neither muslim red armi capabl overrun europ coupl day inde muslim need armi refuge washington war enabl european overrun europ excus annual trillion dollar billion militari secur budget miss oligarchi creat new hitler russia hillari oligarchi principl agent heat new cold war hillari tool enrich oligarchi whose job presid protect increas trillion dollar budget militari secur complex hillari white hous loot american taxpay behalf wealth one percent could go forward unimped trump resolv russian threat oligarchi take incom hit hillari job presid also privat social secur order wall street benefactor rip american way american rip insur compani obamacar american pay attent think mistakenli fbi clear hillari violat nation secur protocol email practic fbi said hillari violat nation secur result careless ignor got indict fbi conclud intent violat nation secur protocol investig clinton foundat continu word order protect hillari fbi fell back ancient common law rule crime without intent see pcr lawrenc stratton tyranni good intent one would think protest legitim would celebr trump victori unlik hillari promis reduc tension power russia hope also china unlik hillari trump say concern absenc career peopl protest street citi word protest american peopl elect trump presid pointless protest happen one reason oligarchi intend delegitim trump presid presid trump delegitim easier oligarchi assassin unless oligarchi appoint control trump govern trump prime candid assassin protest trump suspici anoth reason unlik hillari obama georg w bush donald trump slaughter disloc million peopl seven countri send million refuge oligarchi war overrun europ trump earn fortun hook crook sell us govern influenc foreign agent bill hillari protest protest answer except hire protest maidan protest kiev hire protest us german financ ngo protest kiev equal pointless presidenti elect month away ukrainian realli believ presid conspir russia keep ukrain becom western puppet state wish becom puppet state regardless cost opportun vote govern hand reason protest orchestr coup us succeed put agent control new ukrainian govern victoria nuland us ambassador kiev confirm telephon convers avail internet maidan protest pointless except make coup possibl protest without doubt arrang washington assist secretari state victoria nuland neoconserv brought state depart hillari clinton purpos creat conflict russia trump protest order make vulner event prove threat oligarchi thought trump presid oligarchi still power make real reform difficult achiev symbol reform product contest presid trump oligarch karl marx learn histor experi lenin stalin pol pot learn karl marx chang cannot occur displac rule class left intact revolut proof throughout south america everi revolut indigen peopl left unmolest spanish rule class everi revolut overthrown collus rule class washington washington conspir tradit elit remov elect presid hondura number occas recent washington help elit evict femal presid argentina brazil presid venezuela ecuador bolivia crosshair unlik surviv washington determin get hand julian assang achiev washington intend overthrow ecuadoran govern defianc washington gave julian assang polit asylum hugo chavez power exil extermin spanish rule class venezuela rule class particip cia coup chavez cia could kill chavez peopl militari forc releas instead punish crimin would murder chavez let go accord marx lenin stalin classic mistak revolutionari reli good overthrown rule class certain road defeat revolut latin american prove unabl learn lesson revolut cannot conciliatori trump dealmak oligarchi permit sheen success exchang real chang trump perfect might fail back two import element program reduc tension major nuclear power halt washington polici permit global destroy american econom prospect tension nuclear power worsen worri problem combin economi hollow global immigr econom nightmar trump understand reason support note believ trump ruse conduct oligarchi howev hillari bought paid repres oligarchi elabor ruse unnecessari prefer oligarchi win platform instal presid opposit platform chang around anoth sellout increas anger peopl hillari oligarchi would voter mandat platform dr paul craig robert assist secretari treasuri econom polici associ editor wall street journal columnist busi week scripp howard news servic creator syndic mani univers appoint internet column attract worldwid follow robert latest book failur laissez fair capit econom dissolut west america lost neoconserv threat world order'\n",
      " 'ethiopia obama seek progress peac secur east africa addi ababa ethiopia xpresid obama conven meet leader sever east african nation african union monday effort address worsen situat south sudan even met ethiopia prime minist discuss strengthen human right democrat institut resolut sight ongo conflict south sudan obama brought togeth top offici ethiopia uganda kenya sudan u chart strategi event latest round peac talk fail african nation led ethiopia tri broker peac south sudan intergovernment author develop igad region bodi almost readi present possibl compromis war parti two side aug respond propos administr offici littl expect accept monday obama prais region leader show extraordinari leadership tri address continu situat south sudan group includ ethiopian prime minist hailemariam desalegn ugandan presid yoweri museveni kenyan presid uhuru kenyatta african union chairperson dlamini zuma sudan minist foreign affair ibrahim ghandour give u deleg opportun learn progress made appear continu roadblock partner make progress obama said hope actual bring kind peac peopl south sudan desper need question south sudan x nation unit state help bring exist year effort georg w bush obama administr x vex american policymak year decemb south sudan presid salva kiir accus riek machar serv vice presid attempt coup etat two longtim polit rival differ ethnic group x kiir dinka machar nuer x come togeth form govern countri first creat tribal differ help fuel conflict war larg focus control nation oil field south sudan primari sourc revenu princeton lyman u special envoy sudan south sudan note first took envoy unit state spent billion peacekeep assist two nation four year ago k big invest ad point million peopl face food shortag roughli million displac home addit south sudanes fled across border neighbor countri includ ethiopia conflict also pose major econom problem kenya major invest south sudan fight broke lapsset corridor project aim transport oil south sudan kenyan port lamu accord e j hogendoorn deputi program director africa intern crisi group plan transport infrastructur develop could engin develop mani part east africa unfortun cours hold war said obama spent part afternoon address region conflict africa devot rest day strengthen tie ethiopia whose allianc unit state date back centuri current govern come sharp critic treatment polit oppon journalist obama first sit u presid visit ethiopia news confer monday afternoon obama hailemariam said frank discuss ethiopia human right practic need improv ethiopia africa number two jailer journalist accord committe protect journalist rule parti percent seat may parliamentari elect white hous nation secur advis susan rice ask last week whether consid ethiopia democraci repli ironi one hundr percent news confer obama twice refer ethiopian govern democrat elect bite tongu obama said rais concern issu ethiopia posit respect hailemariam part said commit democraci real skin deep ad later peopl could expect sweep reform given fact militari rule end coupl decad ago someth understood fledgl democraci two leader also discuss collabor counterterror area ethiopia activ leader white hous announc monday work congress provid approxim million year new train equip capac build aid african alli administr also said would provid least million assist fiscal year combat violent extrem east africa money intend foster collabor among secur forc law enforc govern offici commun leader member civil societi offici said obama prais ethiopia work curb extremist activ note govern label opposit group pose greater threat u intellig would indic intellig indic may oppos govern tip terror said unit state provid million assist ethiopia annual vast bulk x million x come u agenc intern develop rest larg secur relat last fiscal year nearli million went health program million went humanitarian aid obama said ethiopia proven global leader develop past year lift million peopl poverti mani peopl around world imag ethiopia remain stuck past rememb drought famin said two leader appear friendli rapport throughout news confer hailemariam describ countri score seri first along cradl mankind said ethiopia birthplac coffe elicit smile obama obama said impress ethiopian unusu pet chanc see famou lion live ground said consid get white hous conced make sure dog safe'\n",
      " 'jeb bush suddenli attack trump matter jeb bush suddenli attack trump matter jeb bush pull punch anymor come donald trump former florida governor delic danc around billionair businessman presidenti primari far glove came week bush call trump closet democrat tri stunt trump rise attempt recov polit mojo jeb desper tri find swagger right gop strategist ford connel said knock jeb low voltag will fight best way shake percept engag person media loop chang bush approach point lob mani direct attack trump delic condemn critic arizona sen john mccain war servic attack fox news megyn kelli even month first debat bush swat stori allegedli call trump buffoon clown say trump languag divis trump call bush true gentleman detent end week far top tier candid avoid directli attack trump treat kid glove anger part gop base trump appeal word voter need hope trump fade split screen new hampshir town hall week bush trump volley attack bush took point jab current front runner underscor trump past histori democrat liber posit use hold mr trump proven conserv record bush said accord washington post democrat longer last decad republican given money democrat given republican bush went attack trump hard line immigr propos argu vitriol would massiv price tag hundr billion dollar cost implement plan conserv plan bush said go pitch let support someon guess stand consist governor consist view next day bush continu hit social media trump never one miss moment retali pull punch either town hall wednesday trump blast bush unelect low energi person know happen jeb crowd street sleep trump said applaus sinc trump also ramp attack bush twitter move hot rhetor may trip bush though consid use phrase anchor babi immigr reform someth bush passion x even written book x often critic within gop liber issu instead comb bush appear use load phrase first time left struggl defend use may signal attack dog crouch take still one complet comfort bush earlier said want campaign joy candid embrac hit trump kentucki sen rand paul went forc debat though punch x trump hedg bet support hillari clinton win presid x appear land candid like ohio gov john kasich demur earlier gop debat night former texa gov rick perri businesswoman carli fiorina also jab trump bush though need close floodgat drop nation poll trump risen new hampshir bush led trump even newcom kasich seen surg cullen former new hampshir gop chairman said chang tone tactic smart move bush one could help granit state think good polit jeb said fergu cullen former new hampshir republican parti chairman percent republican entertain donald trump percent parti say vote circumst jeb bush peopl begin tri appeal percent adult room tri govern connel agre point even new approach one uncomfort bush necessari lot elect studiou one would work said trump flip script']\n"
     ]
    }
   ],
   "source": [
    "print(X)"
   ]
  },
  {
   "cell_type": "code",
   "execution_count": 23,
   "metadata": {
    "colab": {
     "base_uri": "https://localhost:8080/"
    },
    "executionInfo": {
     "elapsed": 416,
     "status": "ok",
     "timestamp": 1646402049064,
     "user": {
      "displayName": "MAYANK THUWAL",
      "photoUrl": "https://lh3.googleusercontent.com/a-/AOh14Gh_cmZZfF2F109XI9VrYVpxDf5-S49nVqAfSQI0nQ=s64",
      "userId": "05119156930723421563"
     },
     "user_tz": -330
    },
    "id": "YZaEyarjNVFi",
    "outputId": "935ed305-f0a1-4b7b-926b-ac1d41331f41"
   },
   "outputs": [
    {
     "name": "stdout",
     "output_type": "stream",
     "text": [
      "['0' '0' '1' ... '0' '1' '1']\n"
     ]
    }
   ],
   "source": [
    "print(Y)"
   ]
  },
  {
   "cell_type": "code",
   "execution_count": 24,
   "metadata": {
    "colab": {
     "base_uri": "https://localhost:8080/"
    },
    "executionInfo": {
     "elapsed": 385,
     "status": "ok",
     "timestamp": 1646402104395,
     "user": {
      "displayName": "MAYANK THUWAL",
      "photoUrl": "https://lh3.googleusercontent.com/a-/AOh14Gh_cmZZfF2F109XI9VrYVpxDf5-S49nVqAfSQI0nQ=s64",
      "userId": "05119156930723421563"
     },
     "user_tz": -330
    },
    "id": "S1wYQ04WNXO6",
    "outputId": "aa4eec8e-2320-462d-d632-94dcd6d072e9"
   },
   "outputs": [
    {
     "data": {
      "text/plain": [
       "(6335,)"
      ]
     },
     "execution_count": 24,
     "metadata": {},
     "output_type": "execute_result"
    }
   ],
   "source": [
    "Y.shape"
   ]
  },
  {
   "cell_type": "code",
   "execution_count": 25,
   "metadata": {
    "executionInfo": {
     "elapsed": 7574,
     "status": "ok",
     "timestamp": 1646402120393,
     "user": {
      "displayName": "MAYANK THUWAL",
      "photoUrl": "https://lh3.googleusercontent.com/a-/AOh14Gh_cmZZfF2F109XI9VrYVpxDf5-S49nVqAfSQI0nQ=s64",
      "userId": "05119156930723421563"
     },
     "user_tz": -330
    },
    "id": "Ec9FhriBNmhy"
   },
   "outputs": [],
   "source": [
    "# converting the textual data to numerical data\n",
    "vectorizer = TfidfVectorizer()\n",
    "vectorizer.fit(X)\n",
    "\n",
    "X = vectorizer.transform(X)"
   ]
  },
  {
   "cell_type": "code",
   "execution_count": 26,
   "metadata": {
    "colab": {
     "base_uri": "https://localhost:8080/"
    },
    "executionInfo": {
     "elapsed": 436,
     "status": "ok",
     "timestamp": 1646402131654,
     "user": {
      "displayName": "MAYANK THUWAL",
      "photoUrl": "https://lh3.googleusercontent.com/a-/AOh14Gh_cmZZfF2F109XI9VrYVpxDf5-S49nVqAfSQI0nQ=s64",
      "userId": "05119156930723421563"
     },
     "user_tz": -330
    },
    "id": "nCyYYELsNorZ",
    "outputId": "afa8787c-fb0e-4be0-b3ad-52c69dfe8351"
   },
   "outputs": [
    {
     "name": "stdout",
     "output_type": "stream",
     "text": [
      "  (0, 43974)\t0.030406280778131196\n",
      "  (0, 43857)\t0.01822745588443043\n",
      "  (0, 42956)\t0.03696108001838734\n",
      "  (0, 42952)\t0.024034584390764016\n",
      "  (0, 42926)\t0.033185821021669615\n",
      "  (0, 42893)\t0.02362340778534529\n",
      "  (0, 42891)\t0.008732167889638126\n",
      "  (0, 42825)\t0.01578993338860275\n",
      "  (0, 42765)\t0.016680033740024997\n",
      "  (0, 42677)\t0.02838518551009315\n",
      "  (0, 42676)\t0.016817537965368043\n",
      "  (0, 42639)\t0.03824335937890267\n",
      "  (0, 42597)\t0.04255521120615529\n",
      "  (0, 42501)\t0.035014962528858336\n",
      "  (0, 42448)\t0.03587918387508206\n",
      "  (0, 42434)\t0.01841318443978269\n",
      "  (0, 42356)\t0.013931244743587087\n",
      "  (0, 42327)\t0.06206026159075188\n",
      "  (0, 42222)\t0.011498173449732165\n",
      "  (0, 42191)\t0.026998841978725343\n",
      "  (0, 42115)\t0.028856621113808757\n",
      "  (0, 42054)\t0.03271006303382345\n",
      "  (0, 42006)\t0.0163442959791202\n",
      "  (0, 41958)\t0.053407815403416874\n",
      "  (0, 41926)\t0.07033137019999851\n",
      "  :\t:\n",
      "  (6334, 3868)\t0.02860967911964226\n",
      "  (6334, 3867)\t0.026460657821927903\n",
      "  (6334, 3692)\t0.03534586655102588\n",
      "  (6334, 3685)\t0.02047775375725914\n",
      "  (6334, 3411)\t0.022315258667460338\n",
      "  (6334, 3124)\t0.018955259212799374\n",
      "  (6334, 2680)\t0.03432648359747455\n",
      "  (6334, 2553)\t0.026019580230091134\n",
      "  (6334, 2358)\t0.022782707696302952\n",
      "  (6334, 2355)\t0.16447591614299642\n",
      "  (6334, 2013)\t0.018159432425962106\n",
      "  (6334, 1944)\t0.03409157176377869\n",
      "  (6334, 1911)\t0.02384352205871605\n",
      "  (6334, 1767)\t0.05041444612393858\n",
      "  (6334, 1741)\t0.040195977992912524\n",
      "  (6334, 1728)\t0.03688405238072194\n",
      "  (6334, 1727)\t0.05289296268410509\n",
      "  (6334, 1644)\t0.03567076801872967\n",
      "  (6334, 1409)\t0.031099751952035785\n",
      "  (6334, 1343)\t0.03864847177533635\n",
      "  (6334, 1078)\t0.02414299070981183\n",
      "  (6334, 990)\t0.03409157176377869\n",
      "  (6334, 655)\t0.023576328395481266\n",
      "  (6334, 480)\t0.03357002045407292\n",
      "  (6334, 253)\t0.016913258950352176\n"
     ]
    }
   ],
   "source": [
    "print(X)"
   ]
  },
  {
   "cell_type": "markdown",
   "metadata": {
    "id": "w-a3oX5uNytI"
   },
   "source": [
    "Splitting the dataset to training & test data"
   ]
  },
  {
   "cell_type": "code",
   "execution_count": 47,
   "metadata": {
    "executionInfo": {
     "elapsed": 368,
     "status": "ok",
     "timestamp": 1646402184514,
     "user": {
      "displayName": "MAYANK THUWAL",
      "photoUrl": "https://lh3.googleusercontent.com/a-/AOh14Gh_cmZZfF2F109XI9VrYVpxDf5-S49nVqAfSQI0nQ=s64",
      "userId": "05119156930723421563"
     },
     "user_tz": -330
    },
    "id": "4gXfYyFkNtLB"
   },
   "outputs": [],
   "source": [
    "X_train, X_test, Y_train, Y_test = train_test_split(X, Y, test_size = 0.25, stratify=Y, random_state=2)"
   ]
  },
  {
   "cell_type": "markdown",
   "metadata": {
    "id": "b-lcETTgN_pA"
   },
   "source": [
    "#### Training the Model: Logistic Regression    "
   ]
  },
  {
   "cell_type": "code",
   "execution_count": 48,
   "metadata": {
    "executionInfo": {
     "elapsed": 374,
     "status": "ok",
     "timestamp": 1646402255106,
     "user": {
      "displayName": "MAYANK THUWAL",
      "photoUrl": "https://lh3.googleusercontent.com/a-/AOh14Gh_cmZZfF2F109XI9VrYVpxDf5-S49nVqAfSQI0nQ=s64",
      "userId": "05119156930723421563"
     },
     "user_tz": -330
    },
    "id": "YKW8749mN-d9"
   },
   "outputs": [],
   "source": [
    "Model = LogisticRegression() "
   ]
  },
  {
   "cell_type": "code",
   "execution_count": 49,
   "metadata": {
    "colab": {
     "base_uri": "https://localhost:8080/"
    },
    "executionInfo": {
     "elapsed": 1379,
     "status": "ok",
     "timestamp": 1646402263063,
     "user": {
      "displayName": "MAYANK THUWAL",
      "photoUrl": "https://lh3.googleusercontent.com/a-/AOh14Gh_cmZZfF2F109XI9VrYVpxDf5-S49nVqAfSQI0nQ=s64",
      "userId": "05119156930723421563"
     },
     "user_tz": -330
    },
    "id": "XYBAbF4hOLU4",
    "outputId": "1355a39a-e2a7-4500-dd85-c8866c09b018"
   },
   "outputs": [
    {
     "data": {
      "text/plain": [
       "LogisticRegression()"
      ]
     },
     "execution_count": 49,
     "metadata": {},
     "output_type": "execute_result"
    }
   ],
   "source": [
    "Model.fit(X_train,Y_train)"
   ]
  },
  {
   "cell_type": "markdown",
   "metadata": {
    "id": "S3pw3S-BOQ0M"
   },
   "source": [
    "#### Evaluation:Accuracy score"
   ]
  },
  {
   "cell_type": "code",
   "execution_count": 50,
   "metadata": {
    "executionInfo": {
     "elapsed": 407,
     "status": "ok",
     "timestamp": 1646402300116,
     "user": {
      "displayName": "MAYANK THUWAL",
      "photoUrl": "https://lh3.googleusercontent.com/a-/AOh14Gh_cmZZfF2F109XI9VrYVpxDf5-S49nVqAfSQI0nQ=s64",
      "userId": "05119156930723421563"
     },
     "user_tz": -330
    },
    "id": "cY518bzVONBd"
   },
   "outputs": [],
   "source": [
    "# accuracy score on the training data\n",
    "X_train_prediction = Model.predict(X_train)\n",
    "training_accuracy = accuracy_score(X_train_prediction, Y_train)"
   ]
  },
  {
   "cell_type": "code",
   "execution_count": 51,
   "metadata": {
    "colab": {
     "base_uri": "https://localhost:8080/"
    },
    "executionInfo": {
     "elapsed": 392,
     "status": "ok",
     "timestamp": 1646402308520,
     "user": {
      "displayName": "MAYANK THUWAL",
      "photoUrl": "https://lh3.googleusercontent.com/a-/AOh14Gh_cmZZfF2F109XI9VrYVpxDf5-S49nVqAfSQI0nQ=s64",
      "userId": "05119156930723421563"
     },
     "user_tz": -330
    },
    "id": "rFuSoxbsORa0",
    "outputId": "652796c2-55a2-4c78-8819-f96105296b54"
   },
   "outputs": [
    {
     "name": "stdout",
     "output_type": "stream",
     "text": [
      "Accuracy score of the training data :  0.95390444117028\n"
     ]
    }
   ],
   "source": [
    "print('Accuracy score of the training data : ', training_accuracy)"
   ]
  },
  {
   "cell_type": "code",
   "execution_count": 52,
   "metadata": {
    "executionInfo": {
     "elapsed": 602,
     "status": "ok",
     "timestamp": 1646402376701,
     "user": {
      "displayName": "MAYANK THUWAL",
      "photoUrl": "https://lh3.googleusercontent.com/a-/AOh14Gh_cmZZfF2F109XI9VrYVpxDf5-S49nVqAfSQI0nQ=s64",
      "userId": "05119156930723421563"
     },
     "user_tz": -330
    },
    "id": "MBDHdFTgOYW-"
   },
   "outputs": [],
   "source": [
    "# accuracy score on the test data\n",
    "X_test_prediction = Model.predict(X_test)\n",
    "test_accuracy = accuracy_score(X_test_prediction, Y_test)"
   ]
  },
  {
   "cell_type": "code",
   "execution_count": 53,
   "metadata": {
    "colab": {
     "base_uri": "https://localhost:8080/"
    },
    "executionInfo": {
     "elapsed": 377,
     "status": "ok",
     "timestamp": 1646402385556,
     "user": {
      "displayName": "MAYANK THUWAL",
      "photoUrl": "https://lh3.googleusercontent.com/a-/AOh14Gh_cmZZfF2F109XI9VrYVpxDf5-S49nVqAfSQI0nQ=s64",
      "userId": "05119156930723421563"
     },
     "user_tz": -330
    },
    "id": "MgcrHa_7Oo86",
    "outputId": "2430b781-cce8-431f-f3a2-aad6c988dd49"
   },
   "outputs": [
    {
     "name": "stdout",
     "output_type": "stream",
     "text": [
      "Accuracy score of the test data :  0.9204545454545454\n"
     ]
    }
   ],
   "source": [
    "print('Accuracy score of the test data : ', test_accuracy)"
   ]
  },
  {
   "cell_type": "markdown",
   "metadata": {
    "id": "A6TlZ27NO2P1"
   },
   "source": [
    "#### Making a Predictive System"
   ]
  },
  {
   "cell_type": "code",
   "execution_count": 54,
   "metadata": {
    "colab": {
     "base_uri": "https://localhost:8080/"
    },
    "executionInfo": {
     "elapsed": 397,
     "status": "ok",
     "timestamp": 1646402742657,
     "user": {
      "displayName": "MAYANK THUWAL",
      "photoUrl": "https://lh3.googleusercontent.com/a-/AOh14Gh_cmZZfF2F109XI9VrYVpxDf5-S49nVqAfSQI0nQ=s64",
      "userId": "05119156930723421563"
     },
     "user_tz": -330
    },
    "id": "EF20KRRwOrK-",
    "outputId": "40092862-d086-4062-c38c-12fa7730f09a"
   },
   "outputs": [
    {
     "name": "stdout",
     "output_type": "stream",
     "text": [
      "['0']\n",
      "The news is Real\n"
     ]
    }
   ],
   "source": [
    "X_new = X_test[319]\n",
    "\n",
    "prediction = Model.predict(X_new)\n",
    "print(prediction)\n",
    "\n",
    "if (prediction[0]=='0'):\n",
    "  print('The news is Real')\n",
    "else:\n",
    "  print('The news is Fake')"
   ]
  },
  {
   "cell_type": "code",
   "execution_count": 55,
   "metadata": {
    "colab": {
     "base_uri": "https://localhost:8080/"
    },
    "executionInfo": {
     "elapsed": 401,
     "status": "ok",
     "timestamp": 1646402749146,
     "user": {
      "displayName": "MAYANK THUWAL",
      "photoUrl": "https://lh3.googleusercontent.com/a-/AOh14Gh_cmZZfF2F109XI9VrYVpxDf5-S49nVqAfSQI0nQ=s64",
      "userId": "05119156930723421563"
     },
     "user_tz": -330
    },
    "id": "QckpFNWEO6oG",
    "outputId": "29ac143a-e438-420e-f16b-52033cbfc341"
   },
   "outputs": [
    {
     "name": "stdout",
     "output_type": "stream",
     "text": [
      "0\n"
     ]
    }
   ],
   "source": [
    "print(Y_test[319])"
   ]
  }
 ],
 "metadata": {
  "colab": {
   "authorship_tag": "ABX9TyOLXyrbSpn5W8FbEf8cTRkb",
   "collapsed_sections": [],
   "name": "Project1.Fake News Prediction.ipynb",
   "provenance": []
  },
  "kernelspec": {
   "display_name": "Python 3 (ipykernel)",
   "language": "python",
   "name": "python3"
  },
  "language_info": {
   "codemirror_mode": {
    "name": "ipython",
    "version": 3
   },
   "file_extension": ".py",
   "mimetype": "text/x-python",
   "name": "python",
   "nbconvert_exporter": "python",
   "pygments_lexer": "ipython3",
   "version": "3.8.10"
  }
 },
 "nbformat": 4,
 "nbformat_minor": 1
}
